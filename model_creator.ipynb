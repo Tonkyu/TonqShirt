{
  "cells": [
    {
      "cell_type": "code",
      "source": [
        "# Google Colab上で実行\n",
        "\n",
        "from google.colab import drive\n",
        "drive.mount('/content/drive')"
      ],
      "metadata": {
        "colab": {
          "base_uri": "https://localhost:8080/"
        },
        "id": "6g_iQoynVh29",
        "outputId": "f7f6f18f-d443-47f6-a6a7-f69b978f8663"
      },
      "execution_count": null,
      "outputs": [
        {
          "output_type": "stream",
          "name": "stdout",
          "text": [
            "Mounted at /content/drive\n"
          ]
        }
      ]
    },
    {
      "cell_type": "code",
      "source": [
        "cd /content/drive/MyDrive/interface"
      ],
      "metadata": {
        "colab": {
          "base_uri": "https://localhost:8080/"
        },
        "id": "qiPQOzvpr6NH",
        "outputId": "7bc229de-018f-4e0a-cddd-71058873c5ef"
      },
      "execution_count": null,
      "outputs": [
        {
          "output_type": "stream",
          "name": "stdout",
          "text": [
            "/content/drive/MyDrive/interface\n"
          ]
        }
      ]
    },
    {
      "cell_type": "code",
      "execution_count": null,
      "metadata": {
        "id": "-P1GuTmxVG66"
      },
      "outputs": [],
      "source": [
        "import pandas as pd\n",
        "data = pd.read_csv('Data/ModeSelectVector03.csv', names=('x1', 'x2', 'x3', 'x4', 'y'))\n",
        "data_x = data[['x1', 'x2', 'x3', 'x4']]\n",
        "data_y = data['y'].to_numpy()"
      ]
    },
    {
      "cell_type": "code",
      "source": [
        "import numpy as np\n",
        "from sklearn import datasets\n",
        "from sklearn.model_selection import train_test_split\n",
        "from sklearn.preprocessing import StandardScaler\n",
        "\n",
        "import torch\n",
        "import torch.nn.functional as F\n",
        "import torch.nn as nn\n",
        "import torch.optim as optim\n",
        "from torch.utils.data import DataLoader, TensorDataset\n",
        "\n",
        "# 0. 入出力データの次元\n",
        "input_dimension = 4\n",
        "output_dimension = 3\n",
        "\n",
        "# 1. データ準備、前処理\n",
        "x_train, x_valid, y_train, y_valid = train_test_split(data_x, data_y, shuffle=True)\n",
        "\n",
        "# 特徴量の標準化\n",
        "scaler = StandardScaler()\n",
        "scaler.fit(x_train)\n",
        "\n",
        "x_train = scaler.transform(x_train)\n",
        "x_valid = scaler.transform(x_valid)\n",
        "\n",
        "# Tensor型に変換\n",
        "x_train = torch.from_numpy(x_train).float()\n",
        "y_train = torch.from_numpy(y_train).long()\n",
        "x_valid = torch.from_numpy(x_valid).float()\n",
        "y_valid = torch.from_numpy(y_valid).long()\n",
        "\n",
        "print('x_train : ', x_train.shape)\n",
        "print('y_train : ', y_train.shape)\n",
        "print('x_valid : ', x_valid.shape)\n",
        "print('y_valid : ', y_valid.shape)\n",
        "\n",
        "# 2. Datasetの作成\n",
        "train_dataset = TensorDataset(x_train, y_train)\n",
        "valid_dataset = TensorDataset(x_valid, y_valid)\n",
        "\n",
        "# 3. DataLoaderの作成\n",
        "batch_size = 32\n",
        "train_dataloader = DataLoader(train_dataset, batch_size=batch_size, shuffle=True)\n",
        "valid_dataloader = DataLoader(valid_dataset, batch_size=batch_size, shuffle=False)\n",
        "\n",
        "# 4. ネットワークの定義\n",
        "class Net(nn.Module):\n",
        "    def __init__(self):\n",
        "        super(Net, self).__init__()\n",
        "        self.fc1 = nn.Linear(input_dimension, 30)\n",
        "        self.fc2 = nn.Linear(30, 20)\n",
        "        self.fc3 = nn.Linear(20, output_dimension)\n",
        "\n",
        "    def forward(self, x):\n",
        "        x = self.fc1(x)\n",
        "        x = F.relu(x)\n",
        "        x = self.fc2(x)\n",
        "        x = F.relu(x)\n",
        "        x = self.fc3(x)\n",
        "        x = F.softmax(x, dim=1)\n",
        "        return x\n",
        "\n",
        "net = Net()\n",
        "print(net)\n",
        "\n",
        "# 5. 損失関数の定義\n",
        "criterion = nn.CrossEntropyLoss()\n",
        "\n",
        "# 6. 最適化手法の定義\n",
        "optimizer = optim.SGD(net.parameters(), lr=0.01)\n",
        "\n",
        "# 7. 学習・評価\n",
        "num_epochs = 300\n",
        "\n",
        "# 学習時と検証時で分けるためディクショナリを用意\n",
        "dataloaders_dict = {\n",
        "    'train': train_dataloader,\n",
        "    'val': valid_dataloader\n",
        "}\n",
        "\n",
        "for epoch in range(num_epochs):\n",
        "    for phase in ['train', 'val']:\n",
        "        if phase == 'train':\n",
        "            net.train()\n",
        "        else:\n",
        "            net.eval()\n",
        "\n",
        "        # 損失和\n",
        "        epoch_loss = 0.0\n",
        "        # 正解数\n",
        "        epoch_corrects = 0\n",
        "\n",
        "        for inputs, labels in dataloaders_dict[phase]:\n",
        "            # optimizerの初期化\n",
        "            optimizer.zero_grad()\n",
        "\n",
        "            # 学習時のみ勾配を計算させる設定にする\n",
        "            with torch.set_grad_enabled(phase == 'train'):\n",
        "                outputs = net(inputs)\n",
        "                loss = criterion(outputs, labels)\n",
        "                _, preds = torch.max(outputs, 1)\n",
        "\n",
        "                # 訓練時はバックプロパゲーション\n",
        "                if phase == 'train':\n",
        "                    loss.backward()\n",
        "                    optimizer.step()\n",
        "\n",
        "                epoch_loss += loss.item() * inputs.size(0)\n",
        "\n",
        "                # 正解数の合計を更新\n",
        "                epoch_corrects += torch.sum(preds == labels.data)\n",
        "\n",
        "        # epochごとのlossと正解率を表示\n",
        "        if (epoch + 1) % 20 != 0:\n",
        "          continue\n",
        "        epoch_loss = epoch_loss / len(dataloaders_dict[phase].dataset)\n",
        "        epoch_acc = epoch_corrects.double() / len(dataloaders_dict[phase].dataset)\n",
        "\n",
        "        print('{} Loss: {:.4f} Acc: {:.4f}'.format(phase, epoch_loss, epoch_acc))"
      ],
      "metadata": {
        "colab": {
          "base_uri": "https://localhost:8080/"
        },
        "id": "hJ4blLO7z1gL",
        "outputId": "d49f6fd9-5988-4371-fe83-3c98609b7d17"
      },
      "execution_count": null,
      "outputs": [
        {
          "output_type": "stream",
          "name": "stdout",
          "text": [
            "x_train :  torch.Size([560, 4])\n",
            "y_train :  torch.Size([560])\n",
            "x_valid :  torch.Size([187, 4])\n",
            "y_valid :  torch.Size([187])\n",
            "Net(\n",
            "  (fc1): Linear(in_features=4, out_features=30, bias=True)\n",
            "  (fc2): Linear(in_features=30, out_features=20, bias=True)\n",
            "  (fc3): Linear(in_features=20, out_features=3, bias=True)\n",
            ")\n",
            "train Loss: 0.9732 Acc: 0.8268\n",
            "val Loss: 0.9663 Acc: 0.8717\n",
            "train Loss: 0.7889 Acc: 0.8536\n",
            "val Loss: 0.7766 Acc: 0.8770\n",
            "train Loss: 0.7102 Acc: 0.8536\n",
            "val Loss: 0.6956 Acc: 0.8770\n",
            "train Loss: 0.6807 Acc: 0.8536\n",
            "val Loss: 0.6696 Acc: 0.8824\n",
            "train Loss: 0.6549 Acc: 0.9161\n",
            "val Loss: 0.6499 Acc: 0.9144\n",
            "train Loss: 0.6362 Acc: 0.9161\n",
            "val Loss: 0.6350 Acc: 0.9144\n",
            "train Loss: 0.6245 Acc: 0.9161\n",
            "val Loss: 0.6247 Acc: 0.9144\n",
            "train Loss: 0.6147 Acc: 0.9304\n",
            "val Loss: 0.6155 Acc: 0.9144\n",
            "train Loss: 0.6043 Acc: 0.9786\n",
            "val Loss: 0.6053 Acc: 0.9679\n",
            "train Loss: 0.5927 Acc: 0.9946\n",
            "val Loss: 0.5937 Acc: 0.9947\n",
            "train Loss: 0.5817 Acc: 1.0000\n",
            "val Loss: 0.5827 Acc: 1.0000\n",
            "train Loss: 0.5732 Acc: 1.0000\n",
            "val Loss: 0.5742 Acc: 1.0000\n",
            "train Loss: 0.5673 Acc: 1.0000\n",
            "val Loss: 0.5682 Acc: 1.0000\n",
            "train Loss: 0.5635 Acc: 1.0000\n",
            "val Loss: 0.5643 Acc: 1.0000\n",
            "train Loss: 0.5609 Acc: 1.0000\n",
            "val Loss: 0.5616 Acc: 1.0000\n"
          ]
        }
      ]
    },
    {
      "cell_type": "code",
      "source": [
        "print(net)"
      ],
      "metadata": {
        "colab": {
          "base_uri": "https://localhost:8080/"
        },
        "id": "J1Wsp1puow_R",
        "outputId": "a91297d6-721b-4714-c5ad-722a44adbf8f"
      },
      "execution_count": null,
      "outputs": [
        {
          "output_type": "stream",
          "name": "stdout",
          "text": [
            "Net(\n",
            "  (fc1): Linear(in_features=4, out_features=30, bias=True)\n",
            "  (fc2): Linear(in_features=30, out_features=20, bias=True)\n",
            "  (fc3): Linear(in_features=20, out_features=3, bias=True)\n",
            ")\n"
          ]
        }
      ]
    },
    {
      "cell_type": "code",
      "source": [
        "pip install onnx"
      ],
      "metadata": {
        "id": "5R7RtrF9fJ4v",
        "outputId": "124498c2-c5f6-4769-f1f1-7375e860029f",
        "colab": {
          "base_uri": "https://localhost:8080/"
        }
      },
      "execution_count": null,
      "outputs": [
        {
          "output_type": "stream",
          "name": "stdout",
          "text": [
            "Collecting onnx\n",
            "  Downloading onnx-1.14.0-cp310-cp310-manylinux_2_17_x86_64.manylinux2014_x86_64.whl (14.6 MB)\n",
            "\u001b[2K     \u001b[90m━━━━━━━━━━━━━━━━━━━━━━━━━━━━━━━━━━━━━━━━\u001b[0m \u001b[32m14.6/14.6 MB\u001b[0m \u001b[31m68.8 MB/s\u001b[0m eta \u001b[36m0:00:00\u001b[0m\n",
            "\u001b[?25hRequirement already satisfied: numpy in /usr/local/lib/python3.10/dist-packages (from onnx) (1.22.4)\n",
            "Requirement already satisfied: protobuf>=3.20.2 in /usr/local/lib/python3.10/dist-packages (from onnx) (3.20.3)\n",
            "Requirement already satisfied: typing-extensions>=3.6.2.1 in /usr/local/lib/python3.10/dist-packages (from onnx) (4.6.3)\n",
            "Installing collected packages: onnx\n",
            "Successfully installed onnx-1.14.0\n"
          ]
        }
      ]
    },
    {
      "cell_type": "code",
      "source": [
        "x = torch.randn(1, input_dimension)\n",
        "\n",
        "# モデルのエクスポート\n",
        "torch.onnx.export(net,         # モデル\n",
        "    x,                         # モデルの入力\n",
        "    \"ONNX/ModeSelect03.onnx\",            # ONNXファイル名\n",
        "    export_params=True,        # 重みをONNXファイルに保存\n",
        "    opset_version=9,           # ONNXのバージョン\n",
        "    do_constant_folding=True,  # 最適化のために定数の折りたたみの実行\n",
        "    input_names = ['X'],       # モデルの入力名\n",
        "    output_names = ['Y']       # モデルの出力名\n",
        "    )"
      ],
      "metadata": {
        "colab": {
          "base_uri": "https://localhost:8080/"
        },
        "id": "4dLL0E7tpxLN",
        "outputId": "f2257248-d7b2-4e5f-b556-b0efdc3851e5"
      },
      "execution_count": null,
      "outputs": [
        {
          "output_type": "stream",
          "name": "stdout",
          "text": [
            "============= Diagnostic Run torch.onnx.export version 2.0.1+cu118 =============\n",
            "verbose: False, log level: Level.ERROR\n",
            "======================= 0 NONE 0 NOTE 0 WARNING 0 ERROR ========================\n",
            "\n"
          ]
        }
      ]
    },
    {
      "cell_type": "code",
      "source": [],
      "metadata": {
        "id": "uEam7EJLsdZv"
      },
      "execution_count": null,
      "outputs": []
    }
  ],
  "metadata": {
    "kernelspec": {
      "display_name": "Python 3",
      "language": "python",
      "name": "python3"
    },
    "language_info": {
      "codemirror_mode": {
        "name": "ipython",
        "version": 3
      },
      "file_extension": ".py",
      "mimetype": "text/x-python",
      "name": "python",
      "nbconvert_exporter": "python",
      "pygments_lexer": "ipython3",
      "version": "3.11.2"
    },
    "orig_nbformat": 4,
    "vscode": {
      "interpreter": {
        "hash": "b0fa6594d8f4cbf19f97940f81e996739fb7646882a419484c72d19e05852a7e"
      }
    },
    "colab": {
      "provenance": []
    }
  },
  "nbformat": 4,
  "nbformat_minor": 0
}